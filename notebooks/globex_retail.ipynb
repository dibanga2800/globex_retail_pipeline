{
 "cells": [
  {
   "cell_type": "markdown",
   "id": "c16d2bfb",
   "metadata": {},
   "source": [
    "## Data Pipeline steps\n",
    "1. Data Extraction\n",
    "2. Quality Assessment\n",
    "3. Data Cleaning\n",
    "4. Data Validation\n",
    "5. Featue Engineering\n",
    "6. Loading\n",
    "7. Analysis and insights"
   ]
  },
  {
   "cell_type": "markdown",
   "id": "4a394332",
   "metadata": {},
   "source": [
    "## Import libraries and select the kernel for virtual enviroment"
   ]
  },
  {
   "cell_type": "code",
   "execution_count": 65,
   "id": "d693cefd",
   "metadata": {},
   "outputs": [],
   "source": [
    "#importing libraries\n",
    "import pandas as pd\n",
    "import numpy as np\n",
    "from sqlalchemy import create_engine    \n",
    "from dotenv import load_dotenv\n",
    "import psycopg2\n"
   ]
  },
  {
   "cell_type": "code",
   "execution_count": 66,
   "id": "fae8baad",
   "metadata": {},
   "outputs": [],
   "source": [
    "\n",
    "# Define proper data types for key columns like 'Customer_ID', 'Order_ID', 'Order_Date', 'Product_Category', 'Product_Sub_Category' , etc.\n",
    "dtypes_dict = {\n",
    "    'customer_id': 'str',\n",
    "    'order_id': 'str',\n",
    "    'order_date': 'str',\n",
    "    'product_category': 'str',\n",
    "    'product_sub_category': 'str'\n",
    "}"
   ]
  },
  {
   "cell_type": "code",
   "execution_count": 67,
   "id": "ff18d528",
   "metadata": {},
   "outputs": [],
   "source": [
    "df = pd.read_csv(r'C:\\Users\\David Ibanga\\Data Engineering practicals\\Globex_Retail\\data\\globex_retail_data.csv', dtype=dtypes_dict)"
   ]
  },
  {
   "cell_type": "code",
   "execution_count": 68,
   "id": "367234f9",
   "metadata": {},
   "outputs": [
    {
     "data": {
      "application/vnd.microsoft.datawrangler.viewer.v0+json": {
       "columns": [
        {
         "name": "index",
         "rawType": "int64",
         "type": "integer"
        },
        {
         "name": "Customer_ID",
         "rawType": "object",
         "type": "string"
        },
        {
         "name": "Order_ID",
         "rawType": "object",
         "type": "string"
        },
        {
         "name": "Order_Date",
         "rawType": "object",
         "type": "string"
        },
        {
         "name": "Product_Category",
         "rawType": "object",
         "type": "string"
        },
        {
         "name": "Product_Sub_Category",
         "rawType": "object",
         "type": "string"
        },
        {
         "name": "Quantity",
         "rawType": "int64",
         "type": "integer"
        },
        {
         "name": "Price",
         "rawType": "float64",
         "type": "float"
        },
        {
         "name": "Discount",
         "rawType": "float64",
         "type": "float"
        },
        {
         "name": "Customer_Location",
         "rawType": "object",
         "type": "string"
        },
        {
         "name": "Revenue",
         "rawType": "float64",
         "type": "float"
        }
       ],
       "ref": "798f98e0-1247-4ea0-9cb4-2642268eb16c",
       "rows": [
        [
         "0",
         "CUST_013738",
         "ORD_00102406",
         "2023-01-01",
         "Home & Garden",
         "Gardening Tools",
         "1",
         "419.19",
         "0.0",
         "TN",
         "419.19"
        ],
        [
         "1",
         "CUST_011726",
         "ORD_00102902",
         "2023-01-01",
         "Electronics",
         "Laptops",
         "1",
         "222.37",
         "0.09",
         "TN",
         "202.3567"
        ],
        [
         "2",
         "CUST_010891",
         "ORD_00103864",
         "2023-01-01",
         "Electronics",
         "Laptops",
         "6",
         "1107.65",
         "0.0",
         "IN",
         "6645.900000000001"
        ],
        [
         "3",
         "CUST_011452",
         "ORD_00103560",
         "2023-01-01",
         "Electronics",
         "Gaming Consoles",
         "5",
         "288.84",
         "0.0",
         "MA",
         "1444.1999999999998"
        ],
        [
         "4",
         "CUST_010886",
         "ORD_00100632",
         "2023-01-02",
         "Electronics",
         "Headphones",
         "1",
         "191.27",
         "0.0",
         "AZ",
         "191.27"
        ]
       ],
       "shape": {
        "columns": 10,
        "rows": 5
       }
      },
      "text/html": [
       "<div>\n",
       "<style scoped>\n",
       "    .dataframe tbody tr th:only-of-type {\n",
       "        vertical-align: middle;\n",
       "    }\n",
       "\n",
       "    .dataframe tbody tr th {\n",
       "        vertical-align: top;\n",
       "    }\n",
       "\n",
       "    .dataframe thead th {\n",
       "        text-align: right;\n",
       "    }\n",
       "</style>\n",
       "<table border=\"1\" class=\"dataframe\">\n",
       "  <thead>\n",
       "    <tr style=\"text-align: right;\">\n",
       "      <th></th>\n",
       "      <th>Customer_ID</th>\n",
       "      <th>Order_ID</th>\n",
       "      <th>Order_Date</th>\n",
       "      <th>Product_Category</th>\n",
       "      <th>Product_Sub_Category</th>\n",
       "      <th>Quantity</th>\n",
       "      <th>Price</th>\n",
       "      <th>Discount</th>\n",
       "      <th>Customer_Location</th>\n",
       "      <th>Revenue</th>\n",
       "    </tr>\n",
       "  </thead>\n",
       "  <tbody>\n",
       "    <tr>\n",
       "      <th>0</th>\n",
       "      <td>CUST_013738</td>\n",
       "      <td>ORD_00102406</td>\n",
       "      <td>2023-01-01</td>\n",
       "      <td>Home &amp; Garden</td>\n",
       "      <td>Gardening Tools</td>\n",
       "      <td>1</td>\n",
       "      <td>419.19</td>\n",
       "      <td>0.00</td>\n",
       "      <td>TN</td>\n",
       "      <td>419.1900</td>\n",
       "    </tr>\n",
       "    <tr>\n",
       "      <th>1</th>\n",
       "      <td>CUST_011726</td>\n",
       "      <td>ORD_00102902</td>\n",
       "      <td>2023-01-01</td>\n",
       "      <td>Electronics</td>\n",
       "      <td>Laptops</td>\n",
       "      <td>1</td>\n",
       "      <td>222.37</td>\n",
       "      <td>0.09</td>\n",
       "      <td>TN</td>\n",
       "      <td>202.3567</td>\n",
       "    </tr>\n",
       "    <tr>\n",
       "      <th>2</th>\n",
       "      <td>CUST_010891</td>\n",
       "      <td>ORD_00103864</td>\n",
       "      <td>2023-01-01</td>\n",
       "      <td>Electronics</td>\n",
       "      <td>Laptops</td>\n",
       "      <td>6</td>\n",
       "      <td>1107.65</td>\n",
       "      <td>0.00</td>\n",
       "      <td>IN</td>\n",
       "      <td>6645.9000</td>\n",
       "    </tr>\n",
       "    <tr>\n",
       "      <th>3</th>\n",
       "      <td>CUST_011452</td>\n",
       "      <td>ORD_00103560</td>\n",
       "      <td>2023-01-01</td>\n",
       "      <td>Electronics</td>\n",
       "      <td>Gaming Consoles</td>\n",
       "      <td>5</td>\n",
       "      <td>288.84</td>\n",
       "      <td>0.00</td>\n",
       "      <td>MA</td>\n",
       "      <td>1444.2000</td>\n",
       "    </tr>\n",
       "    <tr>\n",
       "      <th>4</th>\n",
       "      <td>CUST_010886</td>\n",
       "      <td>ORD_00100632</td>\n",
       "      <td>2023-01-02</td>\n",
       "      <td>Electronics</td>\n",
       "      <td>Headphones</td>\n",
       "      <td>1</td>\n",
       "      <td>191.27</td>\n",
       "      <td>0.00</td>\n",
       "      <td>AZ</td>\n",
       "      <td>191.2700</td>\n",
       "    </tr>\n",
       "  </tbody>\n",
       "</table>\n",
       "</div>"
      ],
      "text/plain": [
       "   Customer_ID      Order_ID  Order_Date Product_Category  \\\n",
       "0  CUST_013738  ORD_00102406  2023-01-01    Home & Garden   \n",
       "1  CUST_011726  ORD_00102902  2023-01-01      Electronics   \n",
       "2  CUST_010891  ORD_00103864  2023-01-01      Electronics   \n",
       "3  CUST_011452  ORD_00103560  2023-01-01      Electronics   \n",
       "4  CUST_010886  ORD_00100632  2023-01-02      Electronics   \n",
       "\n",
       "  Product_Sub_Category  Quantity    Price  Discount Customer_Location  \\\n",
       "0      Gardening Tools         1   419.19      0.00                TN   \n",
       "1              Laptops         1   222.37      0.09                TN   \n",
       "2              Laptops         6  1107.65      0.00                IN   \n",
       "3      Gaming Consoles         5   288.84      0.00                MA   \n",
       "4           Headphones         1   191.27      0.00                AZ   \n",
       "\n",
       "     Revenue  \n",
       "0   419.1900  \n",
       "1   202.3567  \n",
       "2  6645.9000  \n",
       "3  1444.2000  \n",
       "4   191.2700  "
      ]
     },
     "execution_count": 68,
     "metadata": {},
     "output_type": "execute_result"
    }
   ],
   "source": [
    "df.head()"
   ]
  },
  {
   "cell_type": "markdown",
   "id": "c42d6a87",
   "metadata": {},
   "source": [
    "### Data Structure"
   ]
  },
  {
   "cell_type": "code",
   "execution_count": 69,
   "id": "5f123449",
   "metadata": {},
   "outputs": [
    {
     "data": {
      "text/plain": [
       "Index(['Customer_ID', 'Order_ID', 'Order_Date', 'Product_Category',\n",
       "       'Product_Sub_Category', 'Quantity', 'Price', 'Discount',\n",
       "       'Customer_Location', 'Revenue'],\n",
       "      dtype='object')"
      ]
     },
     "execution_count": 69,
     "metadata": {},
     "output_type": "execute_result"
    }
   ],
   "source": [
    "df.columns"
   ]
  },
  {
   "cell_type": "markdown",
   "id": "ffa9e039",
   "metadata": {},
   "source": [
    "### Step2: Data Quality Assessment checks\n",
    "## Check for uniqueness, completeness and data consistency\n",
    "### Checking for missing values"
   ]
  },
  {
   "cell_type": "markdown",
   "id": "4bfa9dee",
   "metadata": {},
   "source": [
    "### Data Cleaning And Transformation"
   ]
  },
  {
   "cell_type": "code",
   "execution_count": 70,
   "id": "542bb89b",
   "metadata": {},
   "outputs": [
    {
     "name": "stdout",
     "output_type": "stream",
     "text": [
      "\n",
      " Missing values in dataset before cleaning:\n",
      "Customer_ID             0\n",
      "Order_ID                0\n",
      "Order_Date              0\n",
      "Product_Category        0\n",
      "Product_Sub_Category    0\n",
      "Quantity                0\n",
      "Price                   0\n",
      "Discount                0\n",
      "Customer_Location       0\n",
      "Revenue                 0\n",
      "dtype: int64\n"
     ]
    }
   ],
   "source": [
    "# Check for missing values in the dataset\n",
    "missing_values = df.isnull().sum()\n",
    "print(\"\\n Missing values in dataset before cleaning:\")\n",
    "print(missing_values)\n"
   ]
  },
  {
   "cell_type": "code",
   "execution_count": 71,
   "id": "c94fce50",
   "metadata": {},
   "outputs": [
    {
     "name": "stdout",
     "output_type": "stream",
     "text": [
      "\n",
      " Missing values in key columns before cleaning:\n",
      "Customer_ID         0\n",
      "Order_ID            0\n",
      "Order_Date          0\n",
      "Product_Category    0\n",
      "Quantity            0\n",
      "Price               0\n",
      "Revenue             0\n",
      "dtype: int64\n"
     ]
    }
   ],
   "source": [
    "# Check for missing values in key columns\n",
    "key_cols = ['Customer_ID', 'Order_ID', 'Order_Date', 'Product_Category', 'Quantity', 'Price', 'Revenue']\n",
    "missing_summary = df[key_cols].isnull().sum()\n",
    "print(\"\\n Missing values in key columns before cleaning:\")\n",
    "print(missing_summary)"
   ]
  },
  {
   "cell_type": "markdown",
   "id": "ed66d75c",
   "metadata": {},
   "source": [
    "### Step3: Data Cleaning"
   ]
  },
  {
   "cell_type": "code",
   "execution_count": 72,
   "id": "aa96ab7a",
   "metadata": {},
   "outputs": [],
   "source": [
    "# create a copy of original data for cleaning\n",
    "df_clean = df.copy()"
   ]
  },
  {
   "cell_type": "code",
   "execution_count": 73,
   "id": "5eb5aa6d",
   "metadata": {},
   "outputs": [
    {
     "data": {
      "application/vnd.microsoft.datawrangler.viewer.v0+json": {
       "columns": [
        {
         "name": "index",
         "rawType": "int64",
         "type": "integer"
        },
        {
         "name": "Customer_ID",
         "rawType": "object",
         "type": "string"
        },
        {
         "name": "Order_ID",
         "rawType": "object",
         "type": "string"
        },
        {
         "name": "Order_Date",
         "rawType": "object",
         "type": "string"
        },
        {
         "name": "Product_Category",
         "rawType": "object",
         "type": "string"
        },
        {
         "name": "Product_Sub_Category",
         "rawType": "object",
         "type": "string"
        },
        {
         "name": "Quantity",
         "rawType": "int64",
         "type": "integer"
        },
        {
         "name": "Price",
         "rawType": "float64",
         "type": "float"
        },
        {
         "name": "Discount",
         "rawType": "float64",
         "type": "float"
        },
        {
         "name": "Customer_Location",
         "rawType": "object",
         "type": "string"
        },
        {
         "name": "Revenue",
         "rawType": "float64",
         "type": "float"
        }
       ],
       "ref": "9e747866-6e30-4f85-8689-bab2ef6ccd6c",
       "rows": [
        [
         "0",
         "CUST_013738",
         "ORD_00102406",
         "2023-01-01",
         "Home & Garden",
         "Gardening Tools",
         "1",
         "419.19",
         "0.0",
         "TN",
         "419.19"
        ],
        [
         "1",
         "CUST_011726",
         "ORD_00102902",
         "2023-01-01",
         "Electronics",
         "Laptops",
         "1",
         "222.37",
         "0.09",
         "TN",
         "202.3567"
        ],
        [
         "2",
         "CUST_010891",
         "ORD_00103864",
         "2023-01-01",
         "Electronics",
         "Laptops",
         "6",
         "1107.65",
         "0.0",
         "IN",
         "6645.900000000001"
        ],
        [
         "3",
         "CUST_011452",
         "ORD_00103560",
         "2023-01-01",
         "Electronics",
         "Gaming Consoles",
         "5",
         "288.84",
         "0.0",
         "MA",
         "1444.1999999999998"
        ],
        [
         "4",
         "CUST_010886",
         "ORD_00100632",
         "2023-01-02",
         "Electronics",
         "Headphones",
         "1",
         "191.27",
         "0.0",
         "AZ",
         "191.27"
        ]
       ],
       "shape": {
        "columns": 10,
        "rows": 5
       }
      },
      "text/html": [
       "<div>\n",
       "<style scoped>\n",
       "    .dataframe tbody tr th:only-of-type {\n",
       "        vertical-align: middle;\n",
       "    }\n",
       "\n",
       "    .dataframe tbody tr th {\n",
       "        vertical-align: top;\n",
       "    }\n",
       "\n",
       "    .dataframe thead th {\n",
       "        text-align: right;\n",
       "    }\n",
       "</style>\n",
       "<table border=\"1\" class=\"dataframe\">\n",
       "  <thead>\n",
       "    <tr style=\"text-align: right;\">\n",
       "      <th></th>\n",
       "      <th>Customer_ID</th>\n",
       "      <th>Order_ID</th>\n",
       "      <th>Order_Date</th>\n",
       "      <th>Product_Category</th>\n",
       "      <th>Product_Sub_Category</th>\n",
       "      <th>Quantity</th>\n",
       "      <th>Price</th>\n",
       "      <th>Discount</th>\n",
       "      <th>Customer_Location</th>\n",
       "      <th>Revenue</th>\n",
       "    </tr>\n",
       "  </thead>\n",
       "  <tbody>\n",
       "    <tr>\n",
       "      <th>0</th>\n",
       "      <td>CUST_013738</td>\n",
       "      <td>ORD_00102406</td>\n",
       "      <td>2023-01-01</td>\n",
       "      <td>Home &amp; Garden</td>\n",
       "      <td>Gardening Tools</td>\n",
       "      <td>1</td>\n",
       "      <td>419.19</td>\n",
       "      <td>0.00</td>\n",
       "      <td>TN</td>\n",
       "      <td>419.1900</td>\n",
       "    </tr>\n",
       "    <tr>\n",
       "      <th>1</th>\n",
       "      <td>CUST_011726</td>\n",
       "      <td>ORD_00102902</td>\n",
       "      <td>2023-01-01</td>\n",
       "      <td>Electronics</td>\n",
       "      <td>Laptops</td>\n",
       "      <td>1</td>\n",
       "      <td>222.37</td>\n",
       "      <td>0.09</td>\n",
       "      <td>TN</td>\n",
       "      <td>202.3567</td>\n",
       "    </tr>\n",
       "    <tr>\n",
       "      <th>2</th>\n",
       "      <td>CUST_010891</td>\n",
       "      <td>ORD_00103864</td>\n",
       "      <td>2023-01-01</td>\n",
       "      <td>Electronics</td>\n",
       "      <td>Laptops</td>\n",
       "      <td>6</td>\n",
       "      <td>1107.65</td>\n",
       "      <td>0.00</td>\n",
       "      <td>IN</td>\n",
       "      <td>6645.9000</td>\n",
       "    </tr>\n",
       "    <tr>\n",
       "      <th>3</th>\n",
       "      <td>CUST_011452</td>\n",
       "      <td>ORD_00103560</td>\n",
       "      <td>2023-01-01</td>\n",
       "      <td>Electronics</td>\n",
       "      <td>Gaming Consoles</td>\n",
       "      <td>5</td>\n",
       "      <td>288.84</td>\n",
       "      <td>0.00</td>\n",
       "      <td>MA</td>\n",
       "      <td>1444.2000</td>\n",
       "    </tr>\n",
       "    <tr>\n",
       "      <th>4</th>\n",
       "      <td>CUST_010886</td>\n",
       "      <td>ORD_00100632</td>\n",
       "      <td>2023-01-02</td>\n",
       "      <td>Electronics</td>\n",
       "      <td>Headphones</td>\n",
       "      <td>1</td>\n",
       "      <td>191.27</td>\n",
       "      <td>0.00</td>\n",
       "      <td>AZ</td>\n",
       "      <td>191.2700</td>\n",
       "    </tr>\n",
       "  </tbody>\n",
       "</table>\n",
       "</div>"
      ],
      "text/plain": [
       "   Customer_ID      Order_ID  Order_Date Product_Category  \\\n",
       "0  CUST_013738  ORD_00102406  2023-01-01    Home & Garden   \n",
       "1  CUST_011726  ORD_00102902  2023-01-01      Electronics   \n",
       "2  CUST_010891  ORD_00103864  2023-01-01      Electronics   \n",
       "3  CUST_011452  ORD_00103560  2023-01-01      Electronics   \n",
       "4  CUST_010886  ORD_00100632  2023-01-02      Electronics   \n",
       "\n",
       "  Product_Sub_Category  Quantity    Price  Discount Customer_Location  \\\n",
       "0      Gardening Tools         1   419.19      0.00                TN   \n",
       "1              Laptops         1   222.37      0.09                TN   \n",
       "2              Laptops         6  1107.65      0.00                IN   \n",
       "3      Gaming Consoles         5   288.84      0.00                MA   \n",
       "4           Headphones         1   191.27      0.00                AZ   \n",
       "\n",
       "     Revenue  \n",
       "0   419.1900  \n",
       "1   202.3567  \n",
       "2  6645.9000  \n",
       "3  1444.2000  \n",
       "4   191.2700  "
      ]
     },
     "execution_count": 73,
     "metadata": {},
     "output_type": "execute_result"
    }
   ],
   "source": [
    "df_clean.head()"
   ]
  },
  {
   "cell_type": "markdown",
   "id": "19442b8e",
   "metadata": {},
   "source": [
    "### Checking for duplicates of data\n"
   ]
  },
  {
   "cell_type": "code",
   "execution_count": 74,
   "id": "26c77052",
   "metadata": {},
   "outputs": [
    {
     "name": "stdout",
     "output_type": "stream",
     "text": [
      "\n",
      " No duplicate rows found.\n"
     ]
    }
   ],
   "source": [
    "#Check and remove duplicate rows\n",
    "num_duplicates = df_clean.duplicated().sum()\n",
    "if num_duplicates > 0:\n",
    "    df_clean = df_clean.drop_duplicates()\n",
    "    print(f\"\\n Removed {num_duplicates} duplicate rows.\")\n",
    "else:\n",
    "    print(\"\\n No duplicate rows found.\")"
   ]
  },
  {
   "cell_type": "code",
   "execution_count": 75,
   "id": "5c166672",
   "metadata": {},
   "outputs": [
    {
     "name": "stdout",
     "output_type": "stream",
     "text": [
      "\n",
      " Dropped rows with missing critical values. New shape: (5000, 10)\n"
     ]
    }
   ],
   "source": [
    "df_clean = df_clean.dropna(subset=key_cols)\n",
    "print(f\"\\n Dropped rows with missing critical values. New shape: {df_clean.shape}\")"
   ]
  },
  {
   "cell_type": "code",
   "execution_count": 76,
   "id": "1d6b1b2b",
   "metadata": {},
   "outputs": [
    {
     "name": "stdout",
     "output_type": "stream",
     "text": [
      "\n",
      "After converting Order_Date to datetime:\n",
      "  Order_Date\n",
      "0 2023-01-01\n",
      "1 2023-01-01\n",
      "2 2023-01-01\n",
      "3 2023-01-01\n",
      "4 2023-01-02\n"
     ]
    }
   ],
   "source": [
    "# Convert Order_Date to datetime\n",
    "df_clean['Order_Date'] = pd.to_datetime(df_clean['Order_Date'], errors='coerce')\n",
    "print(\"\\nAfter converting Order_Date to datetime:\")\n",
    "print(df_clean[['Order_Date']].head())\n"
   ]
  },
  {
   "cell_type": "code",
   "execution_count": 77,
   "id": "74b34594",
   "metadata": {},
   "outputs": [
    {
     "name": "stdout",
     "output_type": "stream",
     "text": [
      "\n",
      " Average Revenue Calculation Difference: 0.0000\n"
     ]
    }
   ],
   "source": [
    "#Validate revenue calculation matches Quantity * Price * (1 - Discount)\n",
    "df_clean['Calculated_Revenue'] = df_clean['Quantity'] * df_clean['Price'] * (1 - df_clean['Discount'])\n",
    "revenue_diff = (df_clean['Revenue'] - df_clean['Calculated_Revenue']).abs().mean()\n",
    "print(f\"\\n Average Revenue Calculation Difference: {revenue_diff:.4f}\")"
   ]
  },
  {
   "cell_type": "markdown",
   "id": "ce1b2f0b",
   "metadata": {},
   "source": [
    "## Step 4: Data Transformation\n",
    "### Feature Engineering"
   ]
  },
  {
   "cell_type": "code",
   "execution_count": 78,
   "id": "f1d253e6",
   "metadata": {},
   "outputs": [
    {
     "name": "stdout",
     "output_type": "stream",
     "text": [
      "\n",
      "After engineering Order_Month:\n",
      "  Order_Date Order_Month\n",
      "0 2023-01-01     2023-01\n",
      "1 2023-01-01     2023-01\n",
      "2 2023-01-01     2023-01\n",
      "3 2023-01-01     2023-01\n",
      "4 2023-01-02     2023-01\n"
     ]
    }
   ],
   "source": [
    "# Created Order_Month from Order_Date\n",
    "df_clean['Order_Month'] = df_clean['Order_Date'].dt.to_period('M').astype(str)\n",
    "print(\"\\nAfter engineering Order_Month:\")\n",
    "print(df_clean[['Order_Date', 'Order_Month']].head())"
   ]
  },
  {
   "cell_type": "code",
   "execution_count": null,
   "id": "417fbb05",
   "metadata": {},
   "outputs": [],
   "source": []
  },
  {
   "cell_type": "code",
   "execution_count": 79,
   "id": "cb5926ef",
   "metadata": {},
   "outputs": [
    {
     "name": "stdout",
     "output_type": "stream",
     "text": [
      "\n",
      "Current columns before merge:\n",
      "['Customer_ID', 'Order_ID', 'Order_Date', 'Product_Category', 'Product_Sub_Category', 'Quantity', 'Price', 'Discount', 'Customer_Location', 'Revenue', 'Calculated_Revenue', 'Order_Month']\n"
     ]
    }
   ],
   "source": [
    "print(\"\\nCurrent columns before merge:\")\n",
    "print(df_clean.columns.tolist())\n"
   ]
  },
  {
   "cell_type": "code",
   "execution_count": 99,
   "id": "abc50946",
   "metadata": {},
   "outputs": [
    {
     "data": {
      "application/vnd.microsoft.datawrangler.viewer.v0+json": {
       "columns": [
        {
         "name": "index",
         "rawType": "int64",
         "type": "integer"
        },
        {
         "name": "Customer_ID",
         "rawType": "object",
         "type": "string"
        },
        {
         "name": "Order_ID",
         "rawType": "object",
         "type": "string"
        },
        {
         "name": "Order_Date",
         "rawType": "datetime64[ns]",
         "type": "datetime"
        },
        {
         "name": "Product_Category",
         "rawType": "object",
         "type": "string"
        },
        {
         "name": "Product_Sub_Category",
         "rawType": "object",
         "type": "string"
        },
        {
         "name": "Quantity",
         "rawType": "int64",
         "type": "integer"
        },
        {
         "name": "Price",
         "rawType": "float64",
         "type": "float"
        },
        {
         "name": "Discount",
         "rawType": "float64",
         "type": "float"
        },
        {
         "name": "Customer_Location",
         "rawType": "object",
         "type": "string"
        },
        {
         "name": "Revenue",
         "rawType": "float64",
         "type": "float"
        },
        {
         "name": "Calculated_Revenue",
         "rawType": "float64",
         "type": "float"
        },
        {
         "name": "Order_Month",
         "rawType": "object",
         "type": "string"
        },
        {
         "name": "Order_Value",
         "rawType": "float64",
         "type": "float"
        },
        {
         "name": "Avg_Order_Value_Calc",
         "rawType": "float64",
         "type": "float"
        },
        {
         "name": "Customer_Segment",
         "rawType": "object",
         "type": "string"
        }
       ],
       "ref": "37021cd7-a6da-48fe-99ce-f9d96c353564",
       "rows": [
        [
         "0",
         "CUST_013738",
         "ORD_00102406",
         "2023-01-01 00:00:00",
         "Home & Garden",
         "Gardening Tools",
         "1",
         "419.19",
         "0.0",
         "TN",
         "419.19",
         "419.19",
         "2023-01",
         "419.19",
         "571.1982666666667",
         "Regular"
        ],
        [
         "1",
         "CUST_011726",
         "ORD_00102902",
         "2023-01-01 00:00:00",
         "Electronics",
         "Laptops",
         "1",
         "222.37",
         "0.09",
         "TN",
         "202.3567",
         "202.35670000000002",
         "2023-01",
         "202.3567",
         "202.3567",
         "Regular"
        ],
        [
         "2",
         "CUST_010891",
         "ORD_00103864",
         "2023-01-01 00:00:00",
         "Electronics",
         "Laptops",
         "6",
         "1107.65",
         "0.0",
         "IN",
         "6645.900000000001",
         "6645.900000000001",
         "2023-01",
         "6645.900000000001",
         "6645.900000000001",
         "High-Value"
        ],
        [
         "3",
         "CUST_011452",
         "ORD_00103560",
         "2023-01-01 00:00:00",
         "Electronics",
         "Gaming Consoles",
         "5",
         "288.84",
         "0.0",
         "MA",
         "1444.1999999999998",
         "1444.1999999999998",
         "2023-01",
         "1444.1999999999998",
         "760.54",
         "Regular"
        ],
        [
         "4",
         "CUST_010886",
         "ORD_00100632",
         "2023-01-02 00:00:00",
         "Electronics",
         "Headphones",
         "1",
         "191.27",
         "0.0",
         "AZ",
         "191.27",
         "191.27",
         "2023-01",
         "191.27",
         "1125.855",
         "High-Value"
        ]
       ],
       "shape": {
        "columns": 15,
        "rows": 5
       }
      },
      "text/html": [
       "<div>\n",
       "<style scoped>\n",
       "    .dataframe tbody tr th:only-of-type {\n",
       "        vertical-align: middle;\n",
       "    }\n",
       "\n",
       "    .dataframe tbody tr th {\n",
       "        vertical-align: top;\n",
       "    }\n",
       "\n",
       "    .dataframe thead th {\n",
       "        text-align: right;\n",
       "    }\n",
       "</style>\n",
       "<table border=\"1\" class=\"dataframe\">\n",
       "  <thead>\n",
       "    <tr style=\"text-align: right;\">\n",
       "      <th></th>\n",
       "      <th>Customer_ID</th>\n",
       "      <th>Order_ID</th>\n",
       "      <th>Order_Date</th>\n",
       "      <th>Product_Category</th>\n",
       "      <th>Product_Sub_Category</th>\n",
       "      <th>Quantity</th>\n",
       "      <th>Price</th>\n",
       "      <th>Discount</th>\n",
       "      <th>Customer_Location</th>\n",
       "      <th>Revenue</th>\n",
       "      <th>Calculated_Revenue</th>\n",
       "      <th>Order_Month</th>\n",
       "      <th>Order_Value</th>\n",
       "      <th>Avg_Order_Value_Calc</th>\n",
       "      <th>Customer_Segment</th>\n",
       "    </tr>\n",
       "  </thead>\n",
       "  <tbody>\n",
       "    <tr>\n",
       "      <th>0</th>\n",
       "      <td>CUST_013738</td>\n",
       "      <td>ORD_00102406</td>\n",
       "      <td>2023-01-01</td>\n",
       "      <td>Home &amp; Garden</td>\n",
       "      <td>Gardening Tools</td>\n",
       "      <td>1</td>\n",
       "      <td>419.19</td>\n",
       "      <td>0.00</td>\n",
       "      <td>TN</td>\n",
       "      <td>419.1900</td>\n",
       "      <td>419.1900</td>\n",
       "      <td>2023-01</td>\n",
       "      <td>419.1900</td>\n",
       "      <td>571.198267</td>\n",
       "      <td>Regular</td>\n",
       "    </tr>\n",
       "    <tr>\n",
       "      <th>1</th>\n",
       "      <td>CUST_011726</td>\n",
       "      <td>ORD_00102902</td>\n",
       "      <td>2023-01-01</td>\n",
       "      <td>Electronics</td>\n",
       "      <td>Laptops</td>\n",
       "      <td>1</td>\n",
       "      <td>222.37</td>\n",
       "      <td>0.09</td>\n",
       "      <td>TN</td>\n",
       "      <td>202.3567</td>\n",
       "      <td>202.3567</td>\n",
       "      <td>2023-01</td>\n",
       "      <td>202.3567</td>\n",
       "      <td>202.356700</td>\n",
       "      <td>Regular</td>\n",
       "    </tr>\n",
       "    <tr>\n",
       "      <th>2</th>\n",
       "      <td>CUST_010891</td>\n",
       "      <td>ORD_00103864</td>\n",
       "      <td>2023-01-01</td>\n",
       "      <td>Electronics</td>\n",
       "      <td>Laptops</td>\n",
       "      <td>6</td>\n",
       "      <td>1107.65</td>\n",
       "      <td>0.00</td>\n",
       "      <td>IN</td>\n",
       "      <td>6645.9000</td>\n",
       "      <td>6645.9000</td>\n",
       "      <td>2023-01</td>\n",
       "      <td>6645.9000</td>\n",
       "      <td>6645.900000</td>\n",
       "      <td>High-Value</td>\n",
       "    </tr>\n",
       "    <tr>\n",
       "      <th>3</th>\n",
       "      <td>CUST_011452</td>\n",
       "      <td>ORD_00103560</td>\n",
       "      <td>2023-01-01</td>\n",
       "      <td>Electronics</td>\n",
       "      <td>Gaming Consoles</td>\n",
       "      <td>5</td>\n",
       "      <td>288.84</td>\n",
       "      <td>0.00</td>\n",
       "      <td>MA</td>\n",
       "      <td>1444.2000</td>\n",
       "      <td>1444.2000</td>\n",
       "      <td>2023-01</td>\n",
       "      <td>1444.2000</td>\n",
       "      <td>760.540000</td>\n",
       "      <td>Regular</td>\n",
       "    </tr>\n",
       "    <tr>\n",
       "      <th>4</th>\n",
       "      <td>CUST_010886</td>\n",
       "      <td>ORD_00100632</td>\n",
       "      <td>2023-01-02</td>\n",
       "      <td>Electronics</td>\n",
       "      <td>Headphones</td>\n",
       "      <td>1</td>\n",
       "      <td>191.27</td>\n",
       "      <td>0.00</td>\n",
       "      <td>AZ</td>\n",
       "      <td>191.2700</td>\n",
       "      <td>191.2700</td>\n",
       "      <td>2023-01</td>\n",
       "      <td>191.2700</td>\n",
       "      <td>1125.855000</td>\n",
       "      <td>High-Value</td>\n",
       "    </tr>\n",
       "  </tbody>\n",
       "</table>\n",
       "</div>"
      ],
      "text/plain": [
       "   Customer_ID      Order_ID Order_Date Product_Category Product_Sub_Category  \\\n",
       "0  CUST_013738  ORD_00102406 2023-01-01    Home & Garden      Gardening Tools   \n",
       "1  CUST_011726  ORD_00102902 2023-01-01      Electronics              Laptops   \n",
       "2  CUST_010891  ORD_00103864 2023-01-01      Electronics              Laptops   \n",
       "3  CUST_011452  ORD_00103560 2023-01-01      Electronics      Gaming Consoles   \n",
       "4  CUST_010886  ORD_00100632 2023-01-02      Electronics           Headphones   \n",
       "\n",
       "   Quantity    Price  Discount Customer_Location    Revenue  \\\n",
       "0         1   419.19      0.00                TN   419.1900   \n",
       "1         1   222.37      0.09                TN   202.3567   \n",
       "2         6  1107.65      0.00                IN  6645.9000   \n",
       "3         5   288.84      0.00                MA  1444.2000   \n",
       "4         1   191.27      0.00                AZ   191.2700   \n",
       "\n",
       "   Calculated_Revenue Order_Month  Order_Value  Avg_Order_Value_Calc  \\\n",
       "0            419.1900     2023-01     419.1900            571.198267   \n",
       "1            202.3567     2023-01     202.3567            202.356700   \n",
       "2           6645.9000     2023-01    6645.9000           6645.900000   \n",
       "3           1444.2000     2023-01    1444.2000            760.540000   \n",
       "4            191.2700     2023-01     191.2700           1125.855000   \n",
       "\n",
       "  Customer_Segment  \n",
       "0          Regular  \n",
       "1          Regular  \n",
       "2       High-Value  \n",
       "3          Regular  \n",
       "4       High-Value  "
      ]
     },
     "execution_count": 99,
     "metadata": {},
     "output_type": "execute_result"
    }
   ],
   "source": [
    "#  Create Order_Value column\n",
    "df_clean['Order_Value'] = df_clean['Revenue']\n",
    "df_clean.head()"
   ]
  },
  {
   "cell_type": "code",
   "execution_count": 100,
   "id": "ef6ed911",
   "metadata": {},
   "outputs": [
    {
     "data": {
      "application/vnd.microsoft.datawrangler.viewer.v0+json": {
       "columns": [
        {
         "name": "index",
         "rawType": "int64",
         "type": "integer"
        },
        {
         "name": "Customer_ID",
         "rawType": "object",
         "type": "string"
        },
        {
         "name": "Avg_Order_Value",
         "rawType": "float64",
         "type": "float"
        }
       ],
       "ref": "54b6fe3c-f2f7-42d3-b7e4-36d40c70083a",
       "rows": [
        [
         "0",
         "CUST_010001",
         "1124.2385"
        ],
        [
         "1",
         "CUST_010002",
         "981.44"
        ],
        [
         "2",
         "CUST_010003",
         "466.5435"
        ],
        [
         "3",
         "CUST_010006",
         "452.9438666666667"
        ],
        [
         "4",
         "CUST_010007",
         "206.688"
        ],
        [
         "5",
         "CUST_010008",
         "229.72666666666666"
        ],
        [
         "6",
         "CUST_010009",
         "279.1784"
        ],
        [
         "7",
         "CUST_010012",
         "58.04"
        ],
        [
         "8",
         "CUST_010013",
         "1544.45"
        ],
        [
         "9",
         "CUST_010016",
         "5033.1072"
        ],
        [
         "10",
         "CUST_010017",
         "17.255000000000003"
        ],
        [
         "11",
         "CUST_010018",
         "115.42120000000001"
        ],
        [
         "12",
         "CUST_010019",
         "738.76"
        ],
        [
         "13",
         "CUST_010022",
         "1245.0172499999999"
        ],
        [
         "14",
         "CUST_010023",
         "265.72"
        ],
        [
         "15",
         "CUST_010024",
         "1231.73"
        ],
        [
         "16",
         "CUST_010025",
         "102.0321"
        ],
        [
         "17",
         "CUST_010026",
         "263.625"
        ],
        [
         "18",
         "CUST_010028",
         "461.68755"
        ],
        [
         "19",
         "CUST_010030",
         "223.9"
        ],
        [
         "20",
         "CUST_010031",
         "265.08"
        ],
        [
         "21",
         "CUST_010032",
         "583.3122"
        ],
        [
         "22",
         "CUST_010033",
         "8.73"
        ],
        [
         "23",
         "CUST_010036",
         "280.23333333333335"
        ],
        [
         "24",
         "CUST_010037",
         "81.36"
        ],
        [
         "25",
         "CUST_010039",
         "433.2938"
        ],
        [
         "26",
         "CUST_010041",
         "66.4356"
        ],
        [
         "27",
         "CUST_010042",
         "308.44840000000005"
        ],
        [
         "28",
         "CUST_010043",
         "185.13466666666667"
        ],
        [
         "29",
         "CUST_010044",
         "350.11"
        ],
        [
         "30",
         "CUST_010045",
         "30.49"
        ],
        [
         "31",
         "CUST_010046",
         "130.7"
        ],
        [
         "32",
         "CUST_010047",
         "377.0"
        ],
        [
         "33",
         "CUST_010048",
         "608.7705"
        ],
        [
         "34",
         "CUST_010049",
         "1405.3939999999998"
        ],
        [
         "35",
         "CUST_010050",
         "58.86"
        ],
        [
         "36",
         "CUST_010051",
         "5647.575000000001"
        ],
        [
         "37",
         "CUST_010052",
         "657.8616000000001"
        ],
        [
         "38",
         "CUST_010053",
         "109.80183333333336"
        ],
        [
         "39",
         "CUST_010054",
         "1109.0933333333332"
        ],
        [
         "40",
         "CUST_010057",
         "226.16"
        ],
        [
         "41",
         "CUST_010058",
         "62.06"
        ],
        [
         "42",
         "CUST_010059",
         "113.46"
        ],
        [
         "43",
         "CUST_010060",
         "876.69175"
        ],
        [
         "44",
         "CUST_010061",
         "106.21666666666665"
        ],
        [
         "45",
         "CUST_010063",
         "136.534"
        ],
        [
         "46",
         "CUST_010065",
         "614.3584999999999"
        ],
        [
         "47",
         "CUST_010066",
         "176.35500000000002"
        ],
        [
         "48",
         "CUST_010069",
         "229.92"
        ],
        [
         "49",
         "CUST_010070",
         "642.3334"
        ]
       ],
       "shape": {
        "columns": 2,
        "rows": 3203
       }
      },
      "text/html": [
       "<div>\n",
       "<style scoped>\n",
       "    .dataframe tbody tr th:only-of-type {\n",
       "        vertical-align: middle;\n",
       "    }\n",
       "\n",
       "    .dataframe tbody tr th {\n",
       "        vertical-align: top;\n",
       "    }\n",
       "\n",
       "    .dataframe thead th {\n",
       "        text-align: right;\n",
       "    }\n",
       "</style>\n",
       "<table border=\"1\" class=\"dataframe\">\n",
       "  <thead>\n",
       "    <tr style=\"text-align: right;\">\n",
       "      <th></th>\n",
       "      <th>Customer_ID</th>\n",
       "      <th>Avg_Order_Value</th>\n",
       "    </tr>\n",
       "  </thead>\n",
       "  <tbody>\n",
       "    <tr>\n",
       "      <th>0</th>\n",
       "      <td>CUST_010001</td>\n",
       "      <td>1124.238500</td>\n",
       "    </tr>\n",
       "    <tr>\n",
       "      <th>1</th>\n",
       "      <td>CUST_010002</td>\n",
       "      <td>981.440000</td>\n",
       "    </tr>\n",
       "    <tr>\n",
       "      <th>2</th>\n",
       "      <td>CUST_010003</td>\n",
       "      <td>466.543500</td>\n",
       "    </tr>\n",
       "    <tr>\n",
       "      <th>3</th>\n",
       "      <td>CUST_010006</td>\n",
       "      <td>452.943867</td>\n",
       "    </tr>\n",
       "    <tr>\n",
       "      <th>4</th>\n",
       "      <td>CUST_010007</td>\n",
       "      <td>206.688000</td>\n",
       "    </tr>\n",
       "    <tr>\n",
       "      <th>...</th>\n",
       "      <td>...</td>\n",
       "      <td>...</td>\n",
       "    </tr>\n",
       "    <tr>\n",
       "      <th>3198</th>\n",
       "      <td>CUST_014993</td>\n",
       "      <td>2475.183400</td>\n",
       "    </tr>\n",
       "    <tr>\n",
       "      <th>3199</th>\n",
       "      <td>CUST_014994</td>\n",
       "      <td>694.935000</td>\n",
       "    </tr>\n",
       "    <tr>\n",
       "      <th>3200</th>\n",
       "      <td>CUST_014995</td>\n",
       "      <td>2129.200000</td>\n",
       "    </tr>\n",
       "    <tr>\n",
       "      <th>3201</th>\n",
       "      <td>CUST_014996</td>\n",
       "      <td>121.965000</td>\n",
       "    </tr>\n",
       "    <tr>\n",
       "      <th>3202</th>\n",
       "      <td>CUST_015000</td>\n",
       "      <td>439.625000</td>\n",
       "    </tr>\n",
       "  </tbody>\n",
       "</table>\n",
       "<p>3203 rows × 2 columns</p>\n",
       "</div>"
      ],
      "text/plain": [
       "      Customer_ID  Avg_Order_Value\n",
       "0     CUST_010001      1124.238500\n",
       "1     CUST_010002       981.440000\n",
       "2     CUST_010003       466.543500\n",
       "3     CUST_010006       452.943867\n",
       "4     CUST_010007       206.688000\n",
       "...           ...              ...\n",
       "3198  CUST_014993      2475.183400\n",
       "3199  CUST_014994       694.935000\n",
       "3200  CUST_014995      2129.200000\n",
       "3201  CUST_014996       121.965000\n",
       "3202  CUST_015000       439.625000\n",
       "\n",
       "[3203 rows x 2 columns]"
      ]
     },
     "execution_count": 100,
     "metadata": {},
     "output_type": "execute_result"
    }
   ],
   "source": [
    "#  Compute average order value per customer\n",
    "customer_avg_order = df_clean.groupby('Customer_ID')['Order_Value'].mean().reset_index()\n",
    "customer_avg_order.columns = ['Customer_ID', 'Avg_Order_Value']\n",
    "customer_avg_order"
   ]
  },
  {
   "cell_type": "code",
   "execution_count": 82,
   "id": "1b2147c8",
   "metadata": {},
   "outputs": [],
   "source": [
    "#Renaming customer_avg_order column for merging\n",
    "customer_avg_order.columns = ['Customer_ID', 'Avg_Order_Value_Calc']\n"
   ]
  },
  {
   "cell_type": "code",
   "execution_count": 83,
   "id": "7589b4b6",
   "metadata": {},
   "outputs": [],
   "source": [
    "# Merge back Avg_Order_Value to main df\n",
    "\n",
    "if 'Avg_Order_Value' in df_clean.columns:\n",
    "    df_clean = df_clean.drop(columns=['Avg_Order_Value'])\n",
    "\n",
    "df_clean = df_clean.merge(customer_avg_order, on='Customer_ID', how='left')\n",
    "\n",
    "\n"
   ]
  },
  {
   "cell_type": "code",
   "execution_count": 84,
   "id": "b09671af",
   "metadata": {},
   "outputs": [
    {
     "name": "stdout",
     "output_type": "stream",
     "text": [
      "\n",
      "Columns after merge:\n",
      "['Customer_ID', 'Order_ID', 'Order_Date', 'Product_Category', 'Product_Sub_Category', 'Quantity', 'Price', 'Discount', 'Customer_Location', 'Revenue', 'Calculated_Revenue', 'Order_Month', 'Order_Value', 'Avg_Order_Value_Calc']\n"
     ]
    }
   ],
   "source": [
    "print(\"\\nColumns after merge:\")\n",
    "print(df_clean.columns.tolist())\n"
   ]
  },
  {
   "cell_type": "markdown",
   "id": "e5f85214",
   "metadata": {},
   "source": [
    "### Customer Segmentation"
   ]
  },
  {
   "cell_type": "code",
   "execution_count": 87,
   "id": "11014086",
   "metadata": {},
   "outputs": [
    {
     "name": "stdout",
     "output_type": "stream",
     "text": [
      "\n",
      "Columns in customer_avg_order: ['Customer_ID', 'Avg_Order_Value']\n"
     ]
    }
   ],
   "source": [
    "print(\"\\nColumns in customer_avg_order:\", customer_avg_order.columns.tolist())\n"
   ]
  },
  {
   "cell_type": "code",
   "execution_count": 88,
   "id": "9d1573bf",
   "metadata": {},
   "outputs": [
    {
     "name": "stdout",
     "output_type": "stream",
     "text": [
      "\n",
      " High-Value customer threshold: 1049.82\n",
      "   Customer_ID  Avg_Order_Value_Calc Customer_Segment\n",
      "0  CUST_013738            571.198267          Regular\n",
      "1  CUST_011726            202.356700          Regular\n",
      "2  CUST_010891           6645.900000       High-Value\n",
      "3  CUST_011452            760.540000          Regular\n",
      "4  CUST_010886           1125.855000       High-Value\n"
     ]
    }
   ],
   "source": [
    "#Segment customers into High-Value (top 20% average order value) vs Regular\n",
    "high_value_threshold = customer_avg_order['Avg_Order_Value'].quantile(0.8)\n",
    "\n",
    "df_clean['Customer_Segment'] = df_clean['Avg_Order_Value_Calc'].apply(\n",
    "    lambda x: 'High-Value' if x >= high_value_threshold else 'Regular'\n",
    ")\n",
    "print(f\"\\n High-Value customer threshold: {high_value_threshold:.2f}\")\n",
    "print(df_clean[['Customer_ID', 'Avg_Order_Value_Calc', 'Customer_Segment']].head())\n"
   ]
  },
  {
   "cell_type": "markdown",
   "id": "66e0d981",
   "metadata": {},
   "source": [
    "### Generating Insights with Pandas"
   ]
  },
  {
   "cell_type": "code",
   "execution_count": null,
   "id": "789f53ae",
   "metadata": {},
   "outputs": [
    {
     "name": "stdout",
     "output_type": "stream",
     "text": [
      "\n",
      " 1) Revenue by Product Category:\n",
      "Product_Category\n",
      "Electronics      2.079574e+06\n",
      "Home & Garden    6.814707e+05\n",
      "Sports           4.744529e+05\n",
      "Clothing         2.819485e+05\n",
      "Beauty           1.371077e+05\n",
      "Books            6.522193e+04\n",
      "Name: Revenue, dtype: float64\n"
     ]
    }
   ],
   "source": [
    "#Question 1: Product category with the most generated revenues\n",
    "category_revenue = df_clean.groupby('Product_Category')['Revenue'].sum().sort_values(ascending=False)\n",
    "print(\"\\n 1) Revenue by Product Category:\")\n",
    "print(category_revenue)"
   ]
  },
  {
   "cell_type": "code",
   "execution_count": null,
   "id": "2044e157",
   "metadata": {},
   "outputs": [
    {
     "name": "stdout",
     "output_type": "stream",
     "text": [
      "\n",
      " 2) Revenue by Product Subcategory:\n",
      "Product_Sub_Category\n",
      "Smart Watches         403335.4208\n",
      "Smartphones           365802.8764\n",
      "Tablets               348740.8234\n",
      "Gaming Consoles       332296.2353\n",
      "Headphones            318398.7129\n",
      "Laptops               310999.7473\n",
      "Gardening Tools       129829.3451\n",
      "Kitchen Appliances    125048.8293\n",
      "Storage               110330.1389\n",
      "Home Decor            109826.6465\n",
      "Name: Revenue, dtype: float64\n"
     ]
    }
   ],
   "source": [
    "#Question 2: Product subcategory with the most generated revenues\n",
    "subcategory_revenue = df_clean.groupby('Product_Sub_Category')['Revenue'].sum().sort_values(ascending=False)\n",
    "print(\"\\n 2) Revenue by Product Subcategory:\")\n",
    "print(subcategory_revenue.head(10))"
   ]
  },
  {
   "cell_type": "code",
   "execution_count": null,
   "id": "fbbb5bc8",
   "metadata": {},
   "outputs": [
    {
     "name": "stdout",
     "output_type": "stream",
     "text": [
      "\n",
      " 3) Average Order Value by Customer Segment:\n",
      "Customer_Segment\n",
      "High-Value    2287.693006\n",
      "Regular        352.214206\n",
      "Name: Order_Value, dtype: float64\n"
     ]
    }
   ],
   "source": [
    "## Question 3: Customer segment with the highest average order value\n",
    "segment_avg_order = df_clean.groupby('Customer_Segment')['Order_Value'].mean().sort_values(ascending=False)\n",
    "print(\"\\n 3) Average Order Value by Customer Segment:\")\n",
    "print(segment_avg_order)"
   ]
  },
  {
   "cell_type": "code",
   "execution_count": 92,
   "id": "ce3e9021",
   "metadata": {},
   "outputs": [
    {
     "name": "stdout",
     "output_type": "stream",
     "text": [
      "\n",
      " 4) Average Discount for High-Value Customers: 4.91%\n"
     ]
    }
   ],
   "source": [
    "## Question 4: Average discount applied to high-value customers\n",
    "high_value_discount = df_clean[df_clean['Customer_Segment'] == 'High-Value']['Discount'].mean()\n",
    "print(f\"\\n 4) Average Discount for High-Value Customers: {high_value_discount:.2%}\")\n"
   ]
  },
  {
   "cell_type": "code",
   "execution_count": 93,
   "id": "5cfd1094",
   "metadata": {},
   "outputs": [
    {
     "name": "stdout",
     "output_type": "stream",
     "text": [
      "\n",
      " 5) High-Value Customer Locations (Top 5):\n",
      "Customer_Location\n",
      "CO    48\n",
      "LA    47\n",
      "MD    42\n",
      "IL    41\n",
      "NC    41\n",
      "Name: count, dtype: int64\n"
     ]
    }
   ],
   "source": [
    "## Question 5: Geographic locations with most high-value customers\n",
    "high_value_customers = df_clean[df_clean['Customer_Segment'] == 'High-Value']\n",
    "location_counts = high_value_customers['Customer_Location'].value_counts()\n",
    "print(\"\\n 5) High-Value Customer Locations (Top 5):\")\n",
    "print(location_counts.head(5))"
   ]
  },
  {
   "cell_type": "code",
   "execution_count": 103,
   "id": "234a1a37",
   "metadata": {},
   "outputs": [
    {
     "name": "stdout",
     "output_type": "stream",
     "text": [
      "\n",
      " 6) Discount Rate Impact by Product Categories:\n",
      "                  Avg_Discount  Total_Revenue\n",
      "Product_Category                             \n",
      "Electronics           0.058537   2.079574e+06\n",
      "Home & Garden         0.063398   6.814707e+05\n",
      "Sports                0.069806   4.744529e+05\n",
      "Clothing              0.063377   2.819485e+05\n",
      "Beauty                0.061279   1.371077e+05\n",
      "Books                 0.065040   6.522193e+04\n"
     ]
    },
    {
     "name": "stderr",
     "output_type": "stream",
     "text": [
      "C:\\Users\\David Ibanga\\AppData\\Local\\Temp\\ipykernel_34416\\2575364459.py:2: FutureWarning: DataFrameGroupBy.apply operated on the grouping columns. This behavior is deprecated, and in a future version of pandas the grouping columns will be excluded from the operation. Either pass `include_groups=False` to exclude the groupings or explicitly select the grouping columns after groupby to silence this warning.\n",
      "  discount_impact = df_clean.groupby('Product_Category').apply(\n"
     ]
    }
   ],
   "source": [
    "## Question 6:How Discount Rate Impact Total Sales across different product categories\n",
    "discount_impact = df_clean.groupby('Product_Category').apply(\n",
    "    lambda x: pd.Series({\n",
    "        'Avg_Discount': x['Discount'].mean(),\n",
    "        'Total_Revenue': x['Revenue'].sum()\n",
    "    })\n",
    ").sort_values('Total_Revenue', ascending=False)\n",
    "print(\"\\n 6) Discount Rate Impact by Product Categories:\")\n",
    "print(discount_impact)"
   ]
  },
  {
   "cell_type": "code",
   "execution_count": 95,
   "id": "ddea67ba",
   "metadata": {},
   "outputs": [
    {
     "name": "stdout",
     "output_type": "stream",
     "text": [
      "\n",
      " 7) Monthly Revenue Trends:\n",
      "Order_Month\n",
      "2023-01    177437.6013\n",
      "2023-02    173608.8882\n",
      "2023-03    151549.1629\n",
      "2023-04    160107.8262\n",
      "2023-05    167926.8782\n",
      "2023-06    134903.8958\n",
      "2023-07    202245.1529\n",
      "2023-08    102365.7004\n",
      "2023-09    153440.8570\n",
      "2023-10    160409.8015\n",
      "2023-11    137063.2309\n",
      "2023-12    154119.1079\n",
      "2024-01    187767.1758\n",
      "2024-02    185474.4577\n",
      "2024-03    156389.5161\n",
      "2024-04    133587.1201\n",
      "2024-05    164528.5586\n",
      "2024-06    140662.3017\n",
      "2024-07    165830.4983\n",
      "2024-08    130879.2232\n",
      "2024-09    147267.8345\n",
      "2024-10    133072.4755\n",
      "2024-11    153979.2064\n",
      "2024-12    145159.1055\n",
      "Name: Revenue, dtype: float64\n"
     ]
    }
   ],
   "source": [
    "## Question 7: Monthly purchase trends\n",
    "monthly_trends = df_clean.groupby('Order_Month')['Revenue'].sum().sort_index()\n",
    "print(\"\\n 7) Monthly Revenue Trends:\")\n",
    "print(monthly_trends)\n"
   ]
  },
  {
   "cell_type": "markdown",
   "id": "baec99f1",
   "metadata": {},
   "source": [
    "### DATA LOADING"
   ]
  },
  {
   "cell_type": "code",
   "execution_count": 98,
   "id": "dbb64705",
   "metadata": {},
   "outputs": [
    {
     "name": "stdout",
     "output_type": "stream",
     "text": [
      "Data loaded successfully into PostgreSQL database.\n"
     ]
    }
   ],
   "source": [
    "import os\n",
    "from urllib.parse import quote_plus\n",
    "\n",
    "load_dotenv()\n",
    "DB_HOST = os.getenv('DB_HOST')\n",
    "DB_PORT = os.getenv('DB_PORT')\n",
    "DB_NAME = os.getenv('DB_NAME')\n",
    "DB_USER = os.getenv('DB_USER')\n",
    "DB_PASSWORD = os.getenv('DB_PASSWORD')\n",
    "\n",
    "# URL-encode the password to handle special characters like '@'\n",
    "DB_PASSWORD_ENC = quote_plus(DB_PASSWORD)\n",
    "\n",
    "# Create a connection string with encoded password\n",
    "db_url = f'postgresql://{DB_USER}:{DB_PASSWORD_ENC}@{DB_HOST}:{DB_PORT}/{DB_NAME}'\n",
    "engine = create_engine(db_url)\n",
    "\n",
    "# Load the DataFrame into PostgreSQL\n",
    "df_clean.to_sql('globex_retail', engine, if_exists='replace', index=False)\n",
    "print(\"Data loaded successfully into PostgreSQL database.\")"
   ]
  },
  {
   "cell_type": "markdown",
   "id": "9f732e9d",
   "metadata": {},
   "source": [
    "#### Recommendations\n",
    "#### Focus on Electronics: Since Electronics generates the most revenue, ensure optimal inventory levels for tablets, smartphones, and laptops.\n",
    "\n",
    "#### Target High-Value Customers: Develop loyalty programs for high-value customers, especially in CA, NY, and TX.\n",
    "\n",
    "#### Strategic Discounting: Use discounts more strategically in categories where they drive significant volume increases (like Clothing), rather than applying them uniformly.\n",
    "\n",
    "### Seasonal Planning: Prepare inventory and marketing campaigns for peak seasons identified in the monthly trends.\n",
    "\n",
    "### Subcategory Optimization: Within top categories, focus on the highest-performing subcategories while evaluating underperforming ones."
   ]
  },
  {
   "cell_type": "code",
   "execution_count": null,
   "id": "e4fa22d1",
   "metadata": {},
   "outputs": [],
   "source": []
  }
 ],
 "metadata": {
  "kernelspec": {
   "display_name": ".venv",
   "language": "python",
   "name": "python3"
  },
  "language_info": {
   "codemirror_mode": {
    "name": "ipython",
    "version": 3
   },
   "file_extension": ".py",
   "mimetype": "text/x-python",
   "name": "python",
   "nbconvert_exporter": "python",
   "pygments_lexer": "ipython3",
   "version": "3.11.4"
  }
 },
 "nbformat": 4,
 "nbformat_minor": 5
}
