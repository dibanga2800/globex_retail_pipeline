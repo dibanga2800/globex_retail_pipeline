{
 "cells": [
  {
   "cell_type": "markdown",
   "id": "d8934d9f",
   "metadata": {},
   "source": [
    "### ctrl + p\n",
    "#python:>create enviroment\n",
    "#Activating a virtual enviroment\n",
    "#pip install -r requirements.txt\n",
    "\n",
    "## Activating Virtual Enviroment on windows\n",
    " .venv\\Scripts\\activate"
   ]
  },
  {
   "cell_type": "markdown",
   "id": "c16d2bfb",
   "metadata": {},
   "source": [
    "## Data Pipeline steps\n",
    "1. Data Extraction\n",
    "2. Quality Assessment\n",
    "3. Data Cleaning\n",
    "4. Data Validation\n",
    "5. Featue Engineering\n",
    "6. Loading\n",
    "7. Analysis and insights"
   ]
  },
  {
   "cell_type": "markdown",
   "id": "4a394332",
   "metadata": {},
   "source": [
    "## Import libraries and select the kernel for virtual enviroment"
   ]
  },
  {
   "cell_type": "code",
   "execution_count": 50,
   "id": "d693cefd",
   "metadata": {},
   "outputs": [],
   "source": [
    "#importing libraries\n",
    "import pandas as pd\n",
    "import numpy as np\n",
    "from sqlalchemy import create_engine    \n",
    "from dotenv import load_dotenv\n",
    "import psycopg2\n"
   ]
  },
  {
   "cell_type": "code",
   "execution_count": 2,
   "id": "fae8baad",
   "metadata": {},
   "outputs": [],
   "source": [
    "\n",
    "# Define proper data types for key columns like 'Customer_ID', 'Order_ID', 'Order_Date', 'Product_Category', 'Product_Sub_Category' , etc.\n",
    "dtypes_dict = {\n",
    "    'customer_id': 'str',\n",
    "    'order_id': 'str',\n",
    "    'order_date': 'str',\n",
    "    'product_category': 'str',\n",
    "    'product_sub_category': 'str'\n",
    "  \n",
    "   \n",
    "}"
   ]
  },
  {
   "cell_type": "code",
   "execution_count": 13,
   "id": "ff18d528",
   "metadata": {},
   "outputs": [],
   "source": [
    "df = pd.read_csv(r'C:\\Users\\David Ibanga\\Data Engineering practicals\\Globex_Retail\\data\\globex_retail_data.csv', dtype=dtypes_dict)"
   ]
  },
  {
   "cell_type": "code",
   "execution_count": 14,
   "id": "367234f9",
   "metadata": {},
   "outputs": [
    {
     "data": {
      "application/vnd.microsoft.datawrangler.viewer.v0+json": {
       "columns": [
        {
         "name": "index",
         "rawType": "int64",
         "type": "integer"
        },
        {
         "name": "Customer_ID",
         "rawType": "object",
         "type": "string"
        },
        {
         "name": "Order_ID",
         "rawType": "object",
         "type": "string"
        },
        {
         "name": "Order_Date",
         "rawType": "object",
         "type": "string"
        },
        {
         "name": "Product_Category",
         "rawType": "object",
         "type": "string"
        },
        {
         "name": "Product_Sub_Category",
         "rawType": "object",
         "type": "string"
        },
        {
         "name": "Quantity",
         "rawType": "int64",
         "type": "integer"
        },
        {
         "name": "Price",
         "rawType": "float64",
         "type": "float"
        },
        {
         "name": "Discount",
         "rawType": "float64",
         "type": "float"
        },
        {
         "name": "Customer_Location",
         "rawType": "object",
         "type": "string"
        },
        {
         "name": "Revenue",
         "rawType": "float64",
         "type": "float"
        }
       ],
       "ref": "6bd112a6-eb3f-418a-ada3-b8893531799d",
       "rows": [
        [
         "0",
         "CUST_013738",
         "ORD_00102406",
         "2023-01-01",
         "Home & Garden",
         "Gardening Tools",
         "1",
         "419.19",
         "0.0",
         "TN",
         "419.19"
        ],
        [
         "1",
         "CUST_011726",
         "ORD_00102902",
         "2023-01-01",
         "Electronics",
         "Laptops",
         "1",
         "222.37",
         "0.09",
         "TN",
         "202.3567"
        ],
        [
         "2",
         "CUST_010891",
         "ORD_00103864",
         "2023-01-01",
         "Electronics",
         "Laptops",
         "6",
         "1107.65",
         "0.0",
         "IN",
         "6645.900000000001"
        ],
        [
         "3",
         "CUST_011452",
         "ORD_00103560",
         "2023-01-01",
         "Electronics",
         "Gaming Consoles",
         "5",
         "288.84",
         "0.0",
         "MA",
         "1444.1999999999998"
        ],
        [
         "4",
         "CUST_010886",
         "ORD_00100632",
         "2023-01-02",
         "Electronics",
         "Headphones",
         "1",
         "191.27",
         "0.0",
         "AZ",
         "191.27"
        ]
       ],
       "shape": {
        "columns": 10,
        "rows": 5
       }
      },
      "text/html": [
       "<div>\n",
       "<style scoped>\n",
       "    .dataframe tbody tr th:only-of-type {\n",
       "        vertical-align: middle;\n",
       "    }\n",
       "\n",
       "    .dataframe tbody tr th {\n",
       "        vertical-align: top;\n",
       "    }\n",
       "\n",
       "    .dataframe thead th {\n",
       "        text-align: right;\n",
       "    }\n",
       "</style>\n",
       "<table border=\"1\" class=\"dataframe\">\n",
       "  <thead>\n",
       "    <tr style=\"text-align: right;\">\n",
       "      <th></th>\n",
       "      <th>Customer_ID</th>\n",
       "      <th>Order_ID</th>\n",
       "      <th>Order_Date</th>\n",
       "      <th>Product_Category</th>\n",
       "      <th>Product_Sub_Category</th>\n",
       "      <th>Quantity</th>\n",
       "      <th>Price</th>\n",
       "      <th>Discount</th>\n",
       "      <th>Customer_Location</th>\n",
       "      <th>Revenue</th>\n",
       "    </tr>\n",
       "  </thead>\n",
       "  <tbody>\n",
       "    <tr>\n",
       "      <th>0</th>\n",
       "      <td>CUST_013738</td>\n",
       "      <td>ORD_00102406</td>\n",
       "      <td>2023-01-01</td>\n",
       "      <td>Home &amp; Garden</td>\n",
       "      <td>Gardening Tools</td>\n",
       "      <td>1</td>\n",
       "      <td>419.19</td>\n",
       "      <td>0.00</td>\n",
       "      <td>TN</td>\n",
       "      <td>419.1900</td>\n",
       "    </tr>\n",
       "    <tr>\n",
       "      <th>1</th>\n",
       "      <td>CUST_011726</td>\n",
       "      <td>ORD_00102902</td>\n",
       "      <td>2023-01-01</td>\n",
       "      <td>Electronics</td>\n",
       "      <td>Laptops</td>\n",
       "      <td>1</td>\n",
       "      <td>222.37</td>\n",
       "      <td>0.09</td>\n",
       "      <td>TN</td>\n",
       "      <td>202.3567</td>\n",
       "    </tr>\n",
       "    <tr>\n",
       "      <th>2</th>\n",
       "      <td>CUST_010891</td>\n",
       "      <td>ORD_00103864</td>\n",
       "      <td>2023-01-01</td>\n",
       "      <td>Electronics</td>\n",
       "      <td>Laptops</td>\n",
       "      <td>6</td>\n",
       "      <td>1107.65</td>\n",
       "      <td>0.00</td>\n",
       "      <td>IN</td>\n",
       "      <td>6645.9000</td>\n",
       "    </tr>\n",
       "    <tr>\n",
       "      <th>3</th>\n",
       "      <td>CUST_011452</td>\n",
       "      <td>ORD_00103560</td>\n",
       "      <td>2023-01-01</td>\n",
       "      <td>Electronics</td>\n",
       "      <td>Gaming Consoles</td>\n",
       "      <td>5</td>\n",
       "      <td>288.84</td>\n",
       "      <td>0.00</td>\n",
       "      <td>MA</td>\n",
       "      <td>1444.2000</td>\n",
       "    </tr>\n",
       "    <tr>\n",
       "      <th>4</th>\n",
       "      <td>CUST_010886</td>\n",
       "      <td>ORD_00100632</td>\n",
       "      <td>2023-01-02</td>\n",
       "      <td>Electronics</td>\n",
       "      <td>Headphones</td>\n",
       "      <td>1</td>\n",
       "      <td>191.27</td>\n",
       "      <td>0.00</td>\n",
       "      <td>AZ</td>\n",
       "      <td>191.2700</td>\n",
       "    </tr>\n",
       "  </tbody>\n",
       "</table>\n",
       "</div>"
      ],
      "text/plain": [
       "   Customer_ID      Order_ID  Order_Date Product_Category  \\\n",
       "0  CUST_013738  ORD_00102406  2023-01-01    Home & Garden   \n",
       "1  CUST_011726  ORD_00102902  2023-01-01      Electronics   \n",
       "2  CUST_010891  ORD_00103864  2023-01-01      Electronics   \n",
       "3  CUST_011452  ORD_00103560  2023-01-01      Electronics   \n",
       "4  CUST_010886  ORD_00100632  2023-01-02      Electronics   \n",
       "\n",
       "  Product_Sub_Category  Quantity    Price  Discount Customer_Location  \\\n",
       "0      Gardening Tools         1   419.19      0.00                TN   \n",
       "1              Laptops         1   222.37      0.09                TN   \n",
       "2              Laptops         6  1107.65      0.00                IN   \n",
       "3      Gaming Consoles         5   288.84      0.00                MA   \n",
       "4           Headphones         1   191.27      0.00                AZ   \n",
       "\n",
       "     Revenue  \n",
       "0   419.1900  \n",
       "1   202.3567  \n",
       "2  6645.9000  \n",
       "3  1444.2000  \n",
       "4   191.2700  "
      ]
     },
     "execution_count": 14,
     "metadata": {},
     "output_type": "execute_result"
    }
   ],
   "source": [
    "df.head()"
   ]
  },
  {
   "cell_type": "markdown",
   "id": "c42d6a87",
   "metadata": {},
   "source": [
    "### Data Structure"
   ]
  },
  {
   "cell_type": "code",
   "execution_count": 15,
   "id": "5f123449",
   "metadata": {},
   "outputs": [
    {
     "data": {
      "text/plain": [
       "Index(['Customer_ID', 'Order_ID', 'Order_Date', 'Product_Category',\n",
       "       'Product_Sub_Category', 'Quantity', 'Price', 'Discount',\n",
       "       'Customer_Location', 'Revenue'],\n",
       "      dtype='object')"
      ]
     },
     "execution_count": 15,
     "metadata": {},
     "output_type": "execute_result"
    }
   ],
   "source": [
    "df.columns"
   ]
  },
  {
   "cell_type": "markdown",
   "id": "ffa9e039",
   "metadata": {},
   "source": [
    "### Step2: Data Quality Assessment checks\n",
    "## Check for uniqueness, completeness and data consistency\n",
    "### Checking for missing values"
   ]
  },
  {
   "cell_type": "code",
   "execution_count": 16,
   "id": "404eca0d",
   "metadata": {},
   "outputs": [
    {
     "data": {
      "application/vnd.microsoft.datawrangler.viewer.v0+json": {
       "columns": [
        {
         "name": "index",
         "rawType": "object",
         "type": "string"
        },
        {
         "name": "0",
         "rawType": "int64",
         "type": "integer"
        }
       ],
       "ref": "e4bdfc24-d8d5-4c46-80da-a4cc09fad0f0",
       "rows": [
        [
         "Customer_ID",
         "0"
        ],
        [
         "Order_ID",
         "0"
        ],
        [
         "Order_Date",
         "0"
        ],
        [
         "Product_Category",
         "0"
        ],
        [
         "Product_Sub_Category",
         "0"
        ],
        [
         "Quantity",
         "0"
        ],
        [
         "Price",
         "0"
        ],
        [
         "Discount",
         "0"
        ],
        [
         "Customer_Location",
         "0"
        ],
        [
         "Revenue",
         "0"
        ]
       ],
       "shape": {
        "columns": 1,
        "rows": 10
       }
      },
      "text/plain": [
       "Customer_ID             0\n",
       "Order_ID                0\n",
       "Order_Date              0\n",
       "Product_Category        0\n",
       "Product_Sub_Category    0\n",
       "Quantity                0\n",
       "Price                   0\n",
       "Discount                0\n",
       "Customer_Location       0\n",
       "Revenue                 0\n",
       "dtype: int64"
      ]
     },
     "execution_count": 16,
     "metadata": {},
     "output_type": "execute_result"
    }
   ],
   "source": [
    "#missing values in the dataset\n",
    "missing_values = df.isnull().sum()\n",
    "missing_values"
   ]
  },
  {
   "cell_type": "markdown",
   "id": "19442b8e",
   "metadata": {},
   "source": [
    "### Checking for duplicates of data\n"
   ]
  },
  {
   "cell_type": "code",
   "execution_count": 17,
   "id": "26c77052",
   "metadata": {},
   "outputs": [
    {
     "data": {
      "text/plain": [
       "np.int64(0)"
      ]
     },
     "execution_count": 17,
     "metadata": {},
     "output_type": "execute_result"
    }
   ],
   "source": [
    "duplicates = df.duplicated().sum()\n",
    "duplicates\n"
   ]
  },
  {
   "cell_type": "code",
   "execution_count": 18,
   "id": "c10b1ec4",
   "metadata": {},
   "outputs": [],
   "source": [
    "if duplicates > 0:\n",
    "    duplicated_rows = df[df.duplicated(keep=False)]\n",
    "    print(duplicated_rows.head())"
   ]
  },
  {
   "cell_type": "code",
   "execution_count": 29,
   "id": "1d6b1b2b",
   "metadata": {},
   "outputs": [
    {
     "name": "stdout",
     "output_type": "stream",
     "text": [
      "\n",
      "After converting Order_Date to datetime:\n",
      "  Order_Date\n",
      "0 2023-01-01\n",
      "1 2023-01-01\n",
      "2 2023-01-01\n",
      "3 2023-01-01\n",
      "4 2023-01-02\n"
     ]
    }
   ],
   "source": [
    "# Convert Order_Date to datetime\n",
    "df['Order_Date'] = pd.to_datetime(df['Order_Date'], errors='coerce')\n",
    "print(\"\\nAfter converting Order_Date to datetime:\")\n",
    "print(df[['Order_Date']].head())\n"
   ]
  },
  {
   "cell_type": "code",
   "execution_count": 21,
   "id": "f1d253e6",
   "metadata": {},
   "outputs": [
    {
     "name": "stdout",
     "output_type": "stream",
     "text": [
      "\n",
      "After engineering Order_Month:\n",
      "  Order_Date Order_Month\n",
      "0 2023-01-01     2023-01\n",
      "1 2023-01-01     2023-01\n",
      "2 2023-01-01     2023-01\n",
      "3 2023-01-01     2023-01\n",
      "4 2023-01-02     2023-01\n"
     ]
    }
   ],
   "source": [
    "# Engineer Order_Month\n",
    "df['Order_Month'] = df['Order_Date'].dt.to_period('M').astype(str)\n",
    "print(\"\\nAfter engineering Order_Month:\")\n",
    "print(df[['Order_Date', 'Order_Month']].head())"
   ]
  },
  {
   "cell_type": "code",
   "execution_count": 22,
   "id": "417fbb05",
   "metadata": {},
   "outputs": [
    {
     "name": "stdout",
     "output_type": "stream",
     "text": [
      "\n",
      "Average order value per customer (sample):\n",
      "   Customer_ID  Avg_Order_Value\n",
      "0  CUST_010001      1124.238500\n",
      "1  CUST_010002       981.440000\n",
      "2  CUST_010003       466.543500\n",
      "3  CUST_010006       452.943867\n",
      "4  CUST_010007       206.688000\n"
     ]
    }
   ],
   "source": [
    "# Calculate average order value per customer\n",
    "customer_avg_order = df.groupby('Customer_ID')['Revenue'].mean().reset_index()\n",
    "customer_avg_order.columns = ['Customer_ID', 'Avg_Order_Value']\n",
    "print(\"\\nAverage order value per customer (sample):\")\n",
    "print(customer_avg_order.head())"
   ]
  },
  {
   "cell_type": "code",
   "execution_count": 31,
   "id": "406fe580",
   "metadata": {},
   "outputs": [
    {
     "name": "stdout",
     "output_type": "stream",
     "text": [
      "\n",
      "✅ Average Revenue Calculation Difference: 0.0000\n"
     ]
    }
   ],
   "source": [
    "#Validate revenue calculation matches Quantity * Price * (1 - Discount)\n",
    "df['Calculated_Revenue'] = df['Quantity'] * df['Price'] * (1 - df['Discount'])\n",
    "revenue_diff = (df['Revenue'] - df['Calculated_Revenue']).abs().mean()\n",
    "print(f\"\\n✅ Average Revenue Calculation Difference: {revenue_diff:.4f}\")\n",
    "\n"
   ]
  },
  {
   "cell_type": "code",
   "execution_count": 32,
   "id": "e067fdbe",
   "metadata": {},
   "outputs": [],
   "source": [
    "# Engineer Avg_Order_Value per customer\n",
    "customer_avg_order = df.groupby('Customer_ID')['Revenue'].mean().reset_index()\n",
    "customer_avg_order.columns = ['Customer_ID', 'Avg_Order_Value']"
   ]
  },
  {
   "cell_type": "code",
   "execution_count": 33,
   "id": "474fd13b",
   "metadata": {},
   "outputs": [],
   "source": [
    "# Merge back to main df\n",
    "df = df.merge(customer_avg_order, on='Customer_ID', how='left')"
   ]
  },
  {
   "cell_type": "code",
   "execution_count": 34,
   "id": "fd6f2e26",
   "metadata": {},
   "outputs": [
    {
     "name": "stdout",
     "output_type": "stream",
     "text": [
      "\n",
      "✅ Avg_Order_Value merged. Sample:\n",
      "   Customer_ID  Order_Value  Avg_Order_Value\n",
      "0  CUST_013738     419.1900       571.198267\n",
      "1  CUST_011726     202.3567       202.356700\n",
      "2  CUST_010891    6645.9000      6645.900000\n",
      "3  CUST_011452    1444.2000       760.540000\n",
      "4  CUST_010886     191.2700      1125.855000\n"
     ]
    }
   ],
   "source": [
    "# Create Order_Value column explicitly\n",
    "df['Order_Value'] = df['Revenue']\n",
    "\n",
    "print(\"\\n✅ Avg_Order_Value merged. Sample:\")\n",
    "print(df[['Customer_ID', 'Order_Value', 'Avg_Order_Value']].head())\n"
   ]
  },
  {
   "cell_type": "code",
   "execution_count": null,
   "id": "9d1573bf",
   "metadata": {},
   "outputs": [
    {
     "name": "stdout",
     "output_type": "stream",
     "text": [
      "\n",
      "✅ High-Value customer threshold: 1049.82\n",
      "   Customer_ID  Avg_Order_Value Customer_Segment\n",
      "0  CUST_013738       571.198267          Regular\n",
      "1  CUST_011726       202.356700          Regular\n",
      "2  CUST_010891      6645.900000       High-Value\n",
      "3  CUST_011452       760.540000          Regular\n",
      "4  CUST_010886      1125.855000       High-Value\n"
     ]
    }
   ],
   "source": [
    "#Segment customers into High-Value (top 20% average order value) vs Regular\n",
    "high_value_threshold = customer_avg_order['Avg_Order_Value'].quantile(0.8)\n",
    "df['Customer_Segment'] = df['Avg_Order_Value'].apply(\n",
    "    lambda x: 'High-Value' if x >= high_value_threshold else 'Regular'\n",
    ")\n",
    "print(f\"\\n High-Value customer threshold: {high_value_threshold:.2f}\")\n",
    "print(df[['Customer_ID', 'Avg_Order_Value', 'Customer_Segment']].head())\n"
   ]
  },
  {
   "cell_type": "markdown",
   "id": "66e0d981",
   "metadata": {},
   "source": [
    "### Answer insight questions"
   ]
  },
  {
   "cell_type": "code",
   "execution_count": 54,
   "id": "789f53ae",
   "metadata": {},
   "outputs": [
    {
     "name": "stdout",
     "output_type": "stream",
     "text": [
      "\n",
      " 1) Revenue by Product Category:\n",
      "Product_Category\n",
      "Electronics      2.079574e+06\n",
      "Home & Garden    6.814707e+05\n",
      "Sports           4.744529e+05\n",
      "Clothing         2.819485e+05\n",
      "Beauty           1.371077e+05\n",
      "Books            6.522193e+04\n",
      "Name: Revenue, dtype: float64\n"
     ]
    }
   ],
   "source": [
    "#Question 1: Product category revenue\n",
    "category_revenue = df.groupby('Product_Category')['Revenue'].sum().sort_values(ascending=False)\n",
    "print(\"\\n 1) Revenue by Product Category:\")\n",
    "print(category_revenue)"
   ]
  },
  {
   "cell_type": "code",
   "execution_count": 55,
   "id": "2044e157",
   "metadata": {},
   "outputs": [
    {
     "name": "stdout",
     "output_type": "stream",
     "text": [
      "\n",
      " 2) Revenue by Product Subcategory:\n",
      "Product_Sub_Category\n",
      "Smart Watches         403335.4208\n",
      "Smartphones           365802.8764\n",
      "Tablets               348740.8234\n",
      "Gaming Consoles       332296.2353\n",
      "Headphones            318398.7129\n",
      "Laptops               310999.7473\n",
      "Gardening Tools       129829.3451\n",
      "Kitchen Appliances    125048.8293\n",
      "Storage               110330.1389\n",
      "Home Decor            109826.6465\n",
      "Name: Revenue, dtype: float64\n"
     ]
    }
   ],
   "source": [
    "#Question 2: Product subcategory revenue\n",
    "subcategory_revenue = df.groupby('Product_Sub_Category')['Revenue'].sum().sort_values(ascending=False)\n",
    "print(\"\\n 2) Revenue by Product Subcategory:\")\n",
    "print(subcategory_revenue.head(10))"
   ]
  },
  {
   "cell_type": "code",
   "execution_count": 56,
   "id": "fbbb5bc8",
   "metadata": {},
   "outputs": [
    {
     "name": "stdout",
     "output_type": "stream",
     "text": [
      "\n",
      " 3) Average Order Value by Customer Segment:\n",
      "Customer_Segment\n",
      "High-Value    2287.693006\n",
      "Regular        352.214206\n",
      "Name: Order_Value, dtype: float64\n"
     ]
    }
   ],
   "source": [
    "## Question 3: Highest average order value by segment\n",
    "segment_avg_order = df.groupby('Customer_Segment')['Order_Value'].mean().sort_values(ascending=False)\n",
    "print(\"\\n 3) Average Order Value by Customer Segment:\")\n",
    "print(segment_avg_order)"
   ]
  },
  {
   "cell_type": "code",
   "execution_count": 57,
   "id": "ce3e9021",
   "metadata": {},
   "outputs": [
    {
     "name": "stdout",
     "output_type": "stream",
     "text": [
      "\n",
      " 4) Average Discount for High-Value Customers: 4.91%\n"
     ]
    }
   ],
   "source": [
    "## Question 4: Average discount applied to high-value customers\n",
    "high_value_discount = df[df['Customer_Segment'] == 'High-Value']['Discount'].mean()\n",
    "print(f\"\\n 4) Average Discount for High-Value Customers: {high_value_discount:.2%}\")\n"
   ]
  },
  {
   "cell_type": "code",
   "execution_count": 58,
   "id": "5cfd1094",
   "metadata": {},
   "outputs": [
    {
     "name": "stdout",
     "output_type": "stream",
     "text": [
      "\n",
      " 5) High-Value Customer Locations (Top 5):\n",
      "Customer_Location\n",
      "CO    48\n",
      "LA    47\n",
      "MD    42\n",
      "IL    41\n",
      "NC    41\n",
      "Name: count, dtype: int64\n"
     ]
    }
   ],
   "source": [
    "## Question 5: Geographic locations with most high-value customers\n",
    "high_value_customers = df[df['Customer_Segment'] == 'High-Value']\n",
    "location_counts = high_value_customers['Customer_Location'].value_counts()\n",
    "print(\"\\n 5) High-Value Customer Locations (Top 5):\")\n",
    "print(location_counts.head(5))"
   ]
  },
  {
   "cell_type": "code",
   "execution_count": 59,
   "id": "234a1a37",
   "metadata": {},
   "outputs": [
    {
     "name": "stdout",
     "output_type": "stream",
     "text": [
      "\n",
      " 6) Discount Impact by Product Category:\n",
      "                  Avg_Discount  Total_Revenue\n",
      "Product_Category                             \n",
      "Electronics           0.058537   2.079574e+06\n",
      "Home & Garden         0.063398   6.814707e+05\n",
      "Sports                0.069806   4.744529e+05\n",
      "Clothing              0.063377   2.819485e+05\n",
      "Beauty                0.061279   1.371077e+05\n",
      "Books                 0.065040   6.522193e+04\n"
     ]
    },
    {
     "name": "stderr",
     "output_type": "stream",
     "text": [
      "C:\\Users\\David Ibanga\\AppData\\Local\\Temp\\ipykernel_36032\\38072515.py:2: FutureWarning: DataFrameGroupBy.apply operated on the grouping columns. This behavior is deprecated, and in a future version of pandas the grouping columns will be excluded from the operation. Either pass `include_groups=False` to exclude the groupings or explicitly select the grouping columns after groupby to silence this warning.\n",
      "  discount_impact = df.groupby('Product_Category').apply(\n"
     ]
    }
   ],
   "source": [
    "## Question 6: Discount impact by product category\n",
    "discount_impact = df.groupby('Product_Category').apply(\n",
    "    lambda x: pd.Series({\n",
    "        'Avg_Discount': x['Discount'].mean(),\n",
    "        'Total_Revenue': x['Revenue'].sum()\n",
    "    })\n",
    ").sort_values('Total_Revenue', ascending=False)\n",
    "print(\"\\n 6) Discount Impact by Product Category:\")\n",
    "print(discount_impact)"
   ]
  },
  {
   "cell_type": "code",
   "execution_count": 60,
   "id": "ddea67ba",
   "metadata": {},
   "outputs": [
    {
     "name": "stdout",
     "output_type": "stream",
     "text": [
      "\n",
      " 7) Monthly Revenue Trends:\n",
      "Order_Month\n",
      "2023-01    177437.6013\n",
      "2023-02    173608.8882\n",
      "2023-03    151549.1629\n",
      "2023-04    160107.8262\n",
      "2023-05    167926.8782\n",
      "2023-06    134903.8958\n",
      "2023-07    202245.1529\n",
      "2023-08    102365.7004\n",
      "2023-09    153440.8570\n",
      "2023-10    160409.8015\n",
      "2023-11    137063.2309\n",
      "2023-12    154119.1079\n",
      "2024-01    187767.1758\n",
      "2024-02    185474.4577\n",
      "2024-03    156389.5161\n",
      "2024-04    133587.1201\n",
      "2024-05    164528.5586\n",
      "2024-06    140662.3017\n",
      "2024-07    165830.4983\n",
      "2024-08    130879.2232\n",
      "2024-09    147267.8345\n",
      "2024-10    133072.4755\n",
      "2024-11    153979.2064\n",
      "2024-12    145159.1055\n",
      "Name: Revenue, dtype: float64\n"
     ]
    }
   ],
   "source": [
    "## Question 7: Monthly purchase trends\n",
    "monthly_trends = df.groupby('Order_Month')['Revenue'].sum().sort_index()\n",
    "print(\"\\n 7) Monthly Revenue Trends:\")\n",
    "print(monthly_trends)\n"
   ]
  },
  {
   "cell_type": "markdown",
   "id": "9f732e9d",
   "metadata": {},
   "source": [
    "#### Recommendations\n",
    "#### Focus on Electronics: Since Electronics generates the most revenue, ensure optimal inventory levels for tablets, smartphones, and laptops.\n",
    "\n",
    "#### Target High-Value Customers: Develop loyalty programs for high-value customers, especially in CA, NY, and TX.\n",
    "\n",
    "#### Strategic Discounting: Use discounts more strategically in categories where they drive significant volume increases (like Clothing), rather than applying them uniformly.\n",
    "\n",
    "### Seasonal Planning: Prepare inventory and marketing campaigns for peak seasons identified in the monthly trends.\n",
    "\n",
    "### Subcategory Optimization: Within top categories, focus on the highest-performing subcategories while evaluating underperforming ones."
   ]
  },
  {
   "cell_type": "code",
   "execution_count": null,
   "id": "e4fa22d1",
   "metadata": {},
   "outputs": [],
   "source": []
  }
 ],
 "metadata": {
  "kernelspec": {
   "display_name": ".venv",
   "language": "python",
   "name": "python3"
  },
  "language_info": {
   "codemirror_mode": {
    "name": "ipython",
    "version": 3
   },
   "file_extension": ".py",
   "mimetype": "text/x-python",
   "name": "python",
   "nbconvert_exporter": "python",
   "pygments_lexer": "ipython3",
   "version": "3.11.4"
  }
 },
 "nbformat": 4,
 "nbformat_minor": 5
}
